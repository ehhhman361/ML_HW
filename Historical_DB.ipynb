{
  "nbformat": 4,
  "nbformat_minor": 5,
  "metadata": {
    "kernelspec": {
      "display_name": "Python 3",
      "language": "python",
      "name": "python3"
    },
    "language_info": {
      "codemirror_mode": {
        "name": "ipython",
        "version": 3
      },
      "file_extension": ".py",
      "mimetype": "text/x-python",
      "name": "python",
      "nbconvert_exporter": "python",
      "pygments_lexer": "ipython3",
      "version": "3.8.2"
    },
    "colab": {
      "name": "Historical DB.ipynb",
      "provenance": [],
      "collapsed_sections": [],
      "include_colab_link": true
    }
  },
  "cells": [
    {
      "cell_type": "markdown",
      "metadata": {
        "id": "view-in-github",
        "colab_type": "text"
      },
      "source": [
        "<a href=\"https://colab.research.google.com/github/ehhhman361/ML_HW/blob/main/Historical_DB.ipynb\" target=\"_parent\"><img src=\"https://colab.research.google.com/assets/colab-badge.svg\" alt=\"Open In Colab\"/></a>"
      ]
    },
    {
      "cell_type": "code",
      "metadata": {
        "colab": {
          "base_uri": "https://localhost:8080/"
        },
        "id": "3elpYppraqkr",
        "outputId": "2dd60225-03bd-405d-d3ba-d91af7051f3a"
      },
      "source": [
        "pip install plotly"
      ],
      "id": "3elpYppraqkr",
      "execution_count": 63,
      "outputs": [
        {
          "output_type": "stream",
          "text": [
            "Requirement already satisfied: plotly in /usr/local/lib/python3.7/dist-packages (4.4.1)\n",
            "Requirement already satisfied: retrying>=1.3.3 in /usr/local/lib/python3.7/dist-packages (from plotly) (1.3.3)\n",
            "Requirement already satisfied: six in /usr/local/lib/python3.7/dist-packages (from plotly) (1.15.0)\n"
          ],
          "name": "stdout"
        }
      ]
    },
    {
      "cell_type": "code",
      "metadata": {
        "colab": {
          "base_uri": "https://localhost:8080/"
        },
        "id": "Sc8glizXjmYG",
        "outputId": "f50b0352-a4ee-4622-a515-eb2c52fdcab5"
      },
      "source": [
        "pip install twython"
      ],
      "id": "Sc8glizXjmYG",
      "execution_count": 64,
      "outputs": [
        {
          "output_type": "stream",
          "text": [
            "Requirement already satisfied: twython in /usr/local/lib/python3.7/dist-packages (3.9.1)\n",
            "Requirement already satisfied: requests-oauthlib>=0.4.0 in /usr/local/lib/python3.7/dist-packages (from twython) (1.3.0)\n",
            "Requirement already satisfied: requests>=2.1.0 in /usr/local/lib/python3.7/dist-packages (from twython) (2.23.0)\n",
            "Requirement already satisfied: urllib3!=1.25.0,!=1.25.1,<1.26,>=1.21.1 in /usr/local/lib/python3.7/dist-packages (from requests>=2.1.0->twython) (1.24.3)\n",
            "Requirement already satisfied: idna<3,>=2.5 in /usr/local/lib/python3.7/dist-packages (from requests>=2.1.0->twython) (2.10)\n",
            "Requirement already satisfied: chardet<4,>=3.0.2 in /usr/local/lib/python3.7/dist-packages (from requests>=2.1.0->twython) (3.0.4)\n",
            "Requirement already satisfied: certifi>=2017.4.17 in /usr/local/lib/python3.7/dist-packages (from requests>=2.1.0->twython) (2021.5.30)\n",
            "Requirement already satisfied: oauthlib>=3.0.0 in /usr/local/lib/python3.7/dist-packages (from requests-oauthlib>=0.4.0->twython) (3.1.1)\n"
          ],
          "name": "stdout"
        }
      ]
    },
    {
      "cell_type": "code",
      "metadata": {
        "id": "4d4903d7-046e-4fa0-9e21-38e08d4c9569"
      },
      "source": [
        "pip install hvplot"
      ],
      "id": "4d4903d7-046e-4fa0-9e21-38e08d4c9569",
      "execution_count": null,
      "outputs": []
    },
    {
      "cell_type": "code",
      "metadata": {
        "id": "96c212fa-ef85-4cb4-9cfa-612837fb99dc"
      },
      "source": [
        "pip install ipython\n"
      ],
      "id": "96c212fa-ef85-4cb4-9cfa-612837fb99dc",
      "execution_count": null,
      "outputs": []
    },
    {
      "cell_type": "code",
      "metadata": {
        "id": "kFgzeUD6afA-"
      },
      "source": [
        "pip install mplfinance"
      ],
      "id": "kFgzeUD6afA-",
      "execution_count": null,
      "outputs": []
    },
    {
      "cell_type": "code",
      "metadata": {
        "id": "4e76779e-2817-471f-90b0-10d8231c7824"
      },
      "source": [
        "pip install yfinance"
      ],
      "id": "4e76779e-2817-471f-90b0-10d8231c7824",
      "execution_count": null,
      "outputs": []
    },
    {
      "cell_type": "code",
      "metadata": {
        "id": "ee5933fb-0c0e-45c3-9e56-a655b3d170cc"
      },
      "source": [
        "# Imports\n",
        "import numpy as np\n",
        "import pandas as pd\n",
        "import yfinance as yf\n",
        "import hvplot.pandas\n",
        "import plotly.graph_objs as go\n",
        "from nltk.sentiment.vader import SentimentIntensityAnalyzer\n",
        "from pathlib import Path\n",
        "import os\n",
        "from datetime import datetime, timedelta\n",
        "import pandas as pd\n",
        "import mplfinance as mpf\n",
        "import hvplot\n",
        "import hvplot.pandas\n",
        "from IPython.display import Markdown\n",
        "import panel as pn\n",
        "import plotly.express as px\n",
        "import panel as pn\n",
        "pn.extension('plotly')\n"
      ],
      "id": "ee5933fb-0c0e-45c3-9e56-a655b3d170cc",
      "execution_count": null,
      "outputs": []
    },
    {
      "cell_type": "code",
      "metadata": {
        "id": "cedd4b2b-be6d-4469-a30c-1e5d2c2c43ed"
      },
      "source": [
        "# build DF of historical data for each stock\n",
        "# Target(TGT)\n",
        "TGT = yf.Ticker('TGT')\n",
        "TGT_hist = TGT.history(period='max')\n",
        "# Costco(COST)\n",
        "COST = yf.Ticker('COST')\n",
        "COST_hist = COST.history(period='max')\n",
        "# Walmart(WMT)\n",
        "WMT = yf.Ticker('WMT')\n",
        "WMT_hist = WMT.history(period='max')\n",
        "# Dollar General(DG)\n",
        "DG = yf.Ticker('DG')\n",
        "DG_hist = DG.history(period='max')\n",
        "# Advanced Micro Devices(AMD)\n",
        "AMD = yf.Ticker('AMD')\n",
        "AMD_hist = AMD.history(period='max')\n",
        "# Medtronics(MDT)\n",
        "MDT = yf.Ticker('MDT')\n",
        "MDT_hist = MDT.history(period='max')\n",
        "# Stryker(SYK)\n",
        "SYK = yf.Ticker('SYK')\n",
        "SYK_hist = SYK.history(period='max')\n",
        "# GlaxoSmithKline (GSK)\n",
        "GSK = yf.Ticker('GSK')\n",
        "GSK_hist = GSK.history(period='max')\n",
        "# Pfizer(PFE)\n",
        "PFE = yf.Ticker('PFE')\n",
        "PFE_hist = PFE.history(period='max')\n",
        "#  Microsoft(MSFT)\n",
        "MSFT = yf.Ticker('MSFT')\n",
        "MSFT_hist = MSFT.history(period='max')\n",
        "# Apple(AAPL)\n",
        "AAPL = yf.Ticker('COST')\n",
        "AAPL_hist = AAPL.history(period='max')\n",
        "# Nvidia(NVDA)\n",
        "NVDA = yf.Ticker('NVDA')\n",
        "NVDA_hist = NVDA.history(period='max')"
      ],
      "id": "cedd4b2b-be6d-4469-a30c-1e5d2c2c43ed",
      "execution_count": null,
      "outputs": []
    },
    {
      "cell_type": "code",
      "metadata": {
        "id": "dd1aabc4-6da3-4197-aded-c46af1059365"
      },
      "source": [
        "# BUILD DF OF EACH STOCK\n",
        "# build DF of historical data for each stock\n",
        "# Target(TGT)\n",
        "TGT_df = pd.DataFrame(TGT_hist)\n",
        "#Show Close Only\n",
        "TGT_close = TGT_df.drop(columns =['Open','High','Low','Volume', 'Dividends', 'Stock Splits'])\n",
        "# Rename close column with name of stock\n",
        "TGT_close = TGT_close.rename(columns = {'Close':'TGT'})\n",
        "\n",
        "# Costco(COST)\n",
        "COST_df = pd.DataFrame(COST_hist)\n",
        "#Show Close Only\n",
        "COST_close = COST_df.drop(columns =['Open','High','Low','Volume', 'Dividends', 'Stock Splits'])\n",
        "# Rename close column with name of stock\n",
        "COST_close = COST_close.rename(columns = {'Close':'COST'})\n",
        "\n",
        "# Walmart(WMT)\n",
        "WMT_df = pd.DataFrame(WMT_hist)\n",
        "#Show Close Only\n",
        "WMT_close = WMT_df.drop(columns =['Open','High','Low','Volume', 'Dividends', 'Stock Splits'])\n",
        "# Rename close column with name of stock\n",
        "WMT_close = WMT_close.rename(columns = {'Close':'WMT'})\n",
        "\n",
        "# Dollar General(DG)\n",
        "DG_df = pd.DataFrame(DG_hist)\n",
        "#Show Close Only\n",
        "DG_close = DG_df.drop(columns =['Open','High','Low','Volume', 'Dividends', 'Stock Splits'])\n",
        "# Rename close column with name of stock\n",
        "DG_close = DG_close.rename(columns = {'Close':'DG'})\n",
        "\n",
        "# Advanced Micro Devices(AMD)\n",
        "AMD_df = pd.DataFrame(AMD_hist)\n",
        "#Show Close Only\n",
        "AMD_close = AMD_df.drop(columns =['Open','High','Low','Volume', 'Dividends', 'Stock Splits'])\n",
        "# Rename close column with name of stock\n",
        "AMD_close = AMD_close.rename(columns = {'Close':'AMD'})\n",
        "\n",
        "# Medtronics(MDT)\n",
        "MDT_df = pd.DataFrame(MDT_hist)\n",
        "#Show Close Only\n",
        "MDT_close = MDT_df.drop(columns =['Open','High','Low','Volume', 'Dividends', 'Stock Splits'])\n",
        "# Rename close column with name of stock\n",
        "MDT_close = MDT_close.rename(columns = {'Close':'MDT'})\n",
        "\n",
        "# Stryker(SYK)\n",
        "SYK_df = pd.DataFrame(SYK_hist)\n",
        "#Show Close Only\n",
        "SYK_close = SYK_df.drop(columns =['Open','High','Low','Volume', 'Dividends', 'Stock Splits'])\n",
        "# Rename close column with name of stock\n",
        "SYK_close = SYK_close.rename(columns = {'Close':'SYK'})\n",
        "\n",
        "# GlaxoSmithKline (GSK)\n",
        "GSK_df = pd.DataFrame(GSK_hist)\n",
        "#Show Close Only\n",
        "GSK_close = GSK_df.drop(columns =['Open','High','Low','Volume', 'Dividends', 'Stock Splits'])\n",
        "# Rename close column with name of stock\n",
        "GSK_close = GSK_close.rename(columns = {'Close':'GSK'})\n",
        "\n",
        "# Pfizer(PFE)\n",
        "PFE_df = pd.DataFrame(PFE_hist)\n",
        "#Show Close Only\n",
        "PFE_close = PFE_df.drop(columns =['Open','High','Low','Volume', 'Dividends', 'Stock Splits'])\n",
        "# Rename close column with name of stock\n",
        "PFE_close = PFE_close.rename(columns = {'Close':'PFE'})\n",
        "\n",
        "#  Microsoft(MSFT)\n",
        "MSFT_df = pd.DataFrame(MSFT_hist)\n",
        "#Show Close Only\n",
        "MSFT_close = MSFT_df.drop(columns =['Open','High','Low','Volume', 'Dividends', 'Stock Splits'])\n",
        "# Rename close column with name of stock\n",
        "MSFT_close = MSFT_close.rename(columns = {'Close':'MSFT'})\n",
        "\n",
        "# Apple(AAPL)\n",
        "AAPL_df = pd.DataFrame(AAPL_hist)\n",
        "#Show Close Only\n",
        "AAPL_close = AAPL_df.drop(columns =['Open','High','Low','Volume', 'Dividends', 'Stock Splits'])\n",
        "# Rename close column with name of stock\n",
        "AAPL_close = AAPL_close.rename(columns = {'LOW':'AAPL LOW'})\n",
        "\n",
        "# Nvidia(NVDA)\n",
        "NVDA_df = pd.DataFrame(NVDA_hist)\n",
        "#Show Close Only\n",
        "NVDA_close = NVDA_df.drop(columns =['Open','High','Low','Volume', 'Dividends', 'Stock Splits'])\n",
        "# Rename close column with name of stock\n",
        "NVDA_close = NVDA_close.rename(columns = {'Close':'NVDA'})\n"
      ],
      "id": "dd1aabc4-6da3-4197-aded-c46af1059365",
      "execution_count": null,
      "outputs": []
    },
    {
      "cell_type": "code",
      "metadata": {
        "id": "d6a72fb0-5d4d-47aa-ad10-481445feb29b"
      },
      "source": [
        "# Concat all close prices in 1 df\n",
        "\n",
        "PORT_CLOSE = pd.concat([TGT_close,COST_close,WMT_close,DG_close,AMD_close,MDT_close,SYK_close,GSK_close,PFE_close,MSFT_close,AAPL_close, NVDA_close\n",
        "], axis='columns', join=\"inner\")\n",
        "PORT_CLOSE"
      ],
      "id": "d6a72fb0-5d4d-47aa-ad10-481445feb29b",
      "execution_count": null,
      "outputs": []
    },
    {
      "cell_type": "code",
      "metadata": {
        "id": "8c8d3e58-f593-4b26-ae35-2a9b969e207a"
      },
      "source": [
        "# Show Candle stick for TGT\n",
        "TGT_fig = go.Figure(data=[go.Candlestick(x=TGT_df.index,\n",
        "                open=TGT_df['Open'],\n",
        "                high=TGT_df['High'],\n",
        "                low=TGT_df['Low'],\n",
        "                close=TGT_df['Close'])])\n",
        "TGT_fig.update_layout(title='Target')\n",
        "TGT_fig.show()"
      ],
      "id": "8c8d3e58-f593-4b26-ae35-2a9b969e207a",
      "execution_count": null,
      "outputs": []
    },
    {
      "cell_type": "code",
      "metadata": {
        "id": "63dd9496-9456-4ce2-a8fa-7a0b5779b76f"
      },
      "source": [
        "# Show Candle stick for COST\n",
        "COST_fig = go.Figure(data=[go.Candlestick(x=COST_df.index,\n",
        "                open=COST_df['Open'],\n",
        "                high=COST_df['High'],\n",
        "                low=COST_df['Low'],\n",
        "                close=COST_df['Close'])])\n",
        "COST_fig.update_layout(title='Costco')\n",
        "COST_fig.show()"
      ],
      "id": "63dd9496-9456-4ce2-a8fa-7a0b5779b76f",
      "execution_count": null,
      "outputs": []
    },
    {
      "cell_type": "code",
      "metadata": {
        "id": "fec18491-ffc2-47aa-8c89-f77dd2cf5c00"
      },
      "source": [
        "# Show Candle stick for AAPL\n",
        "WMT_fig = go.Figure(data=[go.Candlestick(x=WMT_df.index,\n",
        "                open=WMT_df['Open'],\n",
        "                high=WMT_df['High'],\n",
        "                low=WMT_df['Low'],\n",
        "                close=WMT_df['Close'])])\n",
        "WMT_fig.update_layout(title='Walmart')\n",
        "WMT_fig.show()"
      ],
      "id": "fec18491-ffc2-47aa-8c89-f77dd2cf5c00",
      "execution_count": null,
      "outputs": []
    },
    {
      "cell_type": "code",
      "metadata": {
        "id": "b067111d-2856-4392-a599-e5c5fbc044b6"
      },
      "source": [
        "# Show Candle stick for DG\n",
        "DG_fig = go.Figure(data=[go.Candlestick(x=DG_df.index,\n",
        "                open=DG_df['Open'],\n",
        "                high=DG_df['High'],\n",
        "                low=DG_df['Low'],\n",
        "                close=DG_df['Close'])])\n",
        "DG_fig.update_layout(title='Dollar General')\n",
        "DG_fig.show()"
      ],
      "id": "b067111d-2856-4392-a599-e5c5fbc044b6",
      "execution_count": null,
      "outputs": []
    },
    {
      "cell_type": "code",
      "metadata": {
        "id": "a36e917c-5b3a-4503-bc03-98f2797ee84c"
      },
      "source": [
        "# Show Candle stick for AMD\n",
        "AMD_fig = go.Figure(data=[go.Candlestick(x=AMD_df.index,\n",
        "                open=AMD_df['Open'],\n",
        "                high=AMD_df['High'],\n",
        "                low=AMD_df['Low'],\n",
        "                close=AMD_df['Close'])])\n",
        "AMD_fig.update_layout(title='Advanced Micro Devices')\n",
        "AMD_fig.show()"
      ],
      "id": "a36e917c-5b3a-4503-bc03-98f2797ee84c",
      "execution_count": null,
      "outputs": []
    },
    {
      "cell_type": "code",
      "metadata": {
        "id": "9d1818c2-b52c-433a-8515-fd5b1c8a2240"
      },
      "source": [
        "# Show Candle stick for MDT\n",
        "MDT_fig = go.Figure(data=[go.Candlestick(x=MDT_df.index,\n",
        "                open=MDT_df['Open'],\n",
        "                high=MDT_df['High'],\n",
        "                low=MDT_df['Low'],\n",
        "                close=MDT_df['Close'])])\n",
        "MDT_fig.update_layout(title='Medtronics')\n",
        "MDT_fig.show()"
      ],
      "id": "9d1818c2-b52c-433a-8515-fd5b1c8a2240",
      "execution_count": null,
      "outputs": []
    },
    {
      "cell_type": "code",
      "metadata": {
        "id": "93fcd29e-123c-482e-80cb-123afb37bff4"
      },
      "source": [
        "# Show Candle stick for SYK\n",
        "SYK_fig = go.Figure(data=[go.Candlestick(x=SYK_df.index,\n",
        "                open=SYK_df['Open'],\n",
        "                high=SYK_df['High'],\n",
        "                low=SYK_df['Low'],\n",
        "                close=SYK_df['Close'])])\n",
        "SYK_fig.update_layout(title='Stryker')\n",
        "SYK_fig.show()"
      ],
      "id": "93fcd29e-123c-482e-80cb-123afb37bff4",
      "execution_count": null,
      "outputs": []
    },
    {
      "cell_type": "code",
      "metadata": {
        "id": "2ba9723f-1692-4921-a867-7f42f888973b"
      },
      "source": [
        "# Show Candle stick for GSK\n",
        "GSK_fig = go.Figure(data=[go.Candlestick(x=GSK_df.index,\n",
        "                open=GSK_df['Open'],\n",
        "                high=GSK_df['High'],\n",
        "                low=GSK_df['Low'],\n",
        "                close=GSK_df['Close'])])\n",
        "SYK_fig.update_layout(title='GlaxoSmithKline')\n",
        "GSK_fig.show()"
      ],
      "id": "2ba9723f-1692-4921-a867-7f42f888973b",
      "execution_count": null,
      "outputs": []
    },
    {
      "cell_type": "code",
      "metadata": {
        "id": "e48a0af8-345f-4642-9fb9-92a4305dfb7f"
      },
      "source": [
        "# Show Candle stick for PFE\n",
        "PFE_fig = go.Figure(data=[go.Candlestick(x=PFE_df.index,\n",
        "                open=PFE_df['Open'],\n",
        "                high=PFE_df['High'],\n",
        "                low=PFE_df['Low'],\n",
        "                close=PFE_df['Close'])])\n",
        "PFE_fig.update_layout(\n",
        "    title='Pfizer')\n",
        "PFE_fig.show()"
      ],
      "id": "e48a0af8-345f-4642-9fb9-92a4305dfb7f",
      "execution_count": null,
      "outputs": []
    },
    {
      "cell_type": "code",
      "metadata": {
        "id": "2e778519-434f-4aa7-9fcb-ec76568b4aef"
      },
      "source": [
        "# Show Candle stick for MSFT\n",
        "MSFT_fig = go.Figure(data=[go.Candlestick(x=MSFT_df.index,\n",
        "                open=MSFT_df['Open'],\n",
        "                high=MSFT_df['High'],\n",
        "                low=MSFT_df['Low'],\n",
        "                close=MSFT_df['Close'])])\n",
        "MSFT_fig.update_layout(\n",
        "    title='Microsoft')\n",
        "MSFT_fig.show()"
      ],
      "id": "2e778519-434f-4aa7-9fcb-ec76568b4aef",
      "execution_count": null,
      "outputs": []
    },
    {
      "cell_type": "code",
      "metadata": {
        "id": "63b9ab47-b204-4b43-88d5-91d190d4fb59"
      },
      "source": [
        "# Show Candle stick for AAPL\n",
        "AAPL_fig = go.Figure(data=[go.Candlestick(x=AAPL_df.index,\n",
        "                open=AAPL_df['Open'],\n",
        "                high=AAPL_df['High'],\n",
        "                low=AAPL_df['Low'],\n",
        "                close=AAPL_df['Close'])])\n",
        "AAPL_fig.update_layout(title='Apple')   \n",
        "AAPL_fig.show()"
      ],
      "id": "63b9ab47-b204-4b43-88d5-91d190d4fb59",
      "execution_count": null,
      "outputs": []
    },
    {
      "cell_type": "code",
      "metadata": {
        "id": "4fb1f6a3-0b63-45ec-9400-44e0b64a3e55"
      },
      "source": [
        "# Show Candle stick for NVDA\n",
        "NVDA_fig = go.Figure(data=[go.Candlestick(x=NVDA_df.index,\n",
        "                open=NVDA_df['Open'],\n",
        "                high=NVDA_df['High'],\n",
        "                low=NVDA_df['Low'],\n",
        "                close=NVDA_df['Close'],\n",
        "                name= 'Nvidia Stock Chart')]\n",
        "                )\n",
        "NVDA_fig.update_layout(title='Nvidia')\n",
        "NVDA_fig.show()"
      ],
      "id": "4fb1f6a3-0b63-45ec-9400-44e0b64a3e55",
      "execution_count": null,
      "outputs": []
    },
    {
      "cell_type": "code",
      "metadata": {
        "id": "2kbjTbnhavWD"
      },
      "source": [
        "title = pn.pane.Markdown(\"\"\"Portfolio\"\"\",width=1200)\n",
        "welcome =pn.pane.Markdown(\"\"\"This is a portfolio of our team's selected stocks from different industries that shows the historical candlechart of each individual stock.\"\"\")\n",
        "tabs =pn.Tabs(\n",
        "('Overview'),\n",
        "('Target', pn.Row(TGT_fig)),\n",
        "('Costco', pn.Row(COST_fig)),\n",
        "('Walmart', pn.Row(WMT_fig),\n",
        "('Dollar General', pn.Row(DG_fig),\n",
        "('Advanced Micro Devices', pn.Row(COST_fig),\n",
        "('Medtronic', pn.Row(MDT_fig),\n",
        "('Stryker', pn.Row(SYK_fig),\n",
        "('Glaxokline', pn.Row(GSK_fig),\n",
        "('Pfizer', pn.Row(PFE_fig),\n",
        "('Microsoft', pn.Row(MSFT_fig),\n",
        "('Apple', pn.Row(AAPL_fig),\n",
        "('Nvidia', pn.Row(NVDA_fig))\n",
        "\n",
        "dashboard= pn.Column(pn.Row(title), tabs, width=900)\n"
      ],
      "id": "2kbjTbnhavWD",
      "execution_count": null,
      "outputs": []
    },
    {
      "cell_type": "code",
      "metadata": {
        "id": "ce36e690-5f76-439a-94d6-52468560a0f3"
      },
      "source": [
        "# Serve the# dashboard\n",
        "dashboard.servable()"
      ],
      "id": "ce36e690-5f76-439a-94d6-52468560a0f3",
      "execution_count": null,
      "outputs": []
    },
    {
      "cell_type": "code",
      "metadata": {
        "id": "0bV82DVlaw74"
      },
      "source": [
        ""
      ],
      "id": "0bV82DVlaw74",
      "execution_count": null,
      "outputs": []
    },
    {
      "cell_type": "code",
      "metadata": {
        "id": "H12zYzvZaxBt"
      },
      "source": [
        ""
      ],
      "id": "H12zYzvZaxBt",
      "execution_count": null,
      "outputs": []
    },
    {
      "cell_type": "code",
      "metadata": {
        "id": "Nr8NXpLzaxIC"
      },
      "source": [
        ""
      ],
      "id": "Nr8NXpLzaxIC",
      "execution_count": null,
      "outputs": []
    },
    {
      "cell_type": "code",
      "metadata": {
        "id": "KrFD9Y5zaxQn"
      },
      "source": [
        ""
      ],
      "id": "KrFD9Y5zaxQn",
      "execution_count": null,
      "outputs": []
    },
    {
      "cell_type": "code",
      "metadata": {
        "id": "F4F8ql72axYc"
      },
      "source": [
        ""
      ],
      "id": "F4F8ql72axYc",
      "execution_count": null,
      "outputs": []
    },
    {
      "cell_type": "code",
      "metadata": {
        "id": "KYBGcU1Rj74E"
      },
      "source": [
        ""
      ],
      "id": "KYBGcU1Rj74E",
      "execution_count": null,
      "outputs": []
    }
  ]
}